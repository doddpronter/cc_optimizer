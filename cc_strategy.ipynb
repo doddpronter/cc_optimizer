{
 "cells": [
  {
   "cell_type": "markdown",
   "metadata": {},
   "source": [
    "# Covered Call Optimizer\n",
    "\n",
    "Below is the code that loads, runs, and analyzes the covered call optimization shown in the reddit post (link: https://www.reddit.com/r/options/comments/1ktwu86/i_built_a_script_to_get_the_best_covered_call/?utm_source=share&utm_medium=web3x&utm_name=web3xcss&utm_term=1&utm_content=share_button)\n",
    "\n",
    "Ensure you have run pip install -r requirements.txt and that you have an active schwab api account."
   ]
  },
  {
   "cell_type": "markdown",
   "metadata": {},
   "source": [
    "#### Part I\n",
    "Ensure that you are running activate_tokens.py in the background.\n",
    "\n",
    "Load in libraries, symbols for the stocks you want to analyze, and your refresh tokens. "
   ]
  },
  {
   "cell_type": "code",
   "execution_count": null,
   "metadata": {},
   "outputs": [],
   "source": [
    "import requests\n",
    "import pandas as pd\n",
    "import numpy as np\n",
    "from dotenv import load_dotenv\n",
    "import os\n",
    "import json\n",
    "from datetime import datetime\n",
    "import math\n",
    "from scipy.stats import norm\n",
    "load_dotenv()\n",
    "\n",
    "\n",
    "AUTHORIZATION_TOKEN = os.getenv(\"AUTHORIZATION_TOKEN\")\n",
    "APP_KEY = os.getenv(\"APP_KEY\")\n",
    "APP_SECRET = os.getenv(\"APP_SECRET\")\n",
    "\n",
    "with open(\"stocks.txt\", \"r\") as r:\n",
    "    symbols = [line.strip() for line in r.readlines()]\n",
    "\n",
    "with open(\"refresh_tokens.txt\", \"r\") as r:\n",
    "    data = json.load(r)\n"
   ]
  },
  {
   "cell_type": "markdown",
   "metadata": {},
   "source": [
    "#### Part II\n",
    "\n",
    "Run the below cell to bring the underlying price for the symbols defined in stocks.txt"
   ]
  },
  {
   "cell_type": "code",
   "execution_count": 4,
   "metadata": {},
   "outputs": [],
   "source": [
    "url = \"https://api.schwabapi.com/marketdata/v1/quotes\"\n",
    "token = data['tokens']['access_token']\n",
    "headers = {\n",
    "    \"accept\": \"application/json\",\n",
    "    \"Authorization\": f\"Bearer {token}\"\n",
    "}\n",
    "\n",
    "all_quotes = {}\n",
    "batch_size = 100\n",
    "\n",
    "for i in range(0, len(symbols), batch_size):\n",
    "    params = {\n",
    "        \"symbols\": \", \".join(symbols[i:i+batch_size]),\n",
    "        \"fields\": \"quote,reference\",\n",
    "        \"indicative\": \"false\"\n",
    "    }\n",
    "    \n",
    "    response = requests.get(url, headers=headers, params=params)\n",
    "    if response.status_code == 200:\n",
    "        all_quotes.update(response.json())\n",
    "    else:\n",
    "        print(f\"Error fetching data for batch {i//batch_size + 1}: {response.status_code}\")"
   ]
  },
  {
   "cell_type": "markdown",
   "metadata": {},
   "source": [
    "#### Part III\n",
    "\n",
    "Choose the amount of strikes you want to bring for each stock and choose the month for which you want to analyze the contracts. Wherever there is a comment that says  # User Choice ensure you have selected your desired input"
   ]
  },
  {
   "cell_type": "code",
   "execution_count": null,
   "metadata": {},
   "outputs": [],
   "source": [
    "option_chain_url = \"https://api.schwabapi.com/marketdata/v1/chains\"\n",
    "with open(\"refresh_tokens.txt\", \"r\") as r:\n",
    "    data = json.load(r)\n",
    "token = data['tokens']['access_token']\n",
    "headers = {\n",
    "    \"accept\": \"application/json\",\n",
    "    \"Authorization\": f\"Bearer {token}\",\n",
    "}\n",
    "\n",
    "\n",
    "strikeCount = 30 # User Choice: choose how many strikes you want to bring for each stock\n",
    "final_df = []\n",
    "for symbol in list(all_quotes.keys())[:-2]:\n",
    "    print(f\"getting option chain with {strikeCount} strikes for {symbol}\")\n",
    "    params = {\n",
    "    \"symbol\": symbol,\n",
    "    \"contractType\": \"CALL\",\n",
    "    \"includeQuotes\": \"TRUE\",\n",
    "    'strikeCount':strikeCount,\n",
    "    'expMonth':\"MAY\",} # User Choice: put the month you want the expiration to be (e.g. MAY, JUN, etc.)\n",
    "\n",
    "    response = requests.get(option_chain_url, headers=headers, params=params)\n",
    "    try:\n",
    "        if response.status_code == 200:\n",
    "            data = response.json()\n",
    "            exps = list(data['callExpDateMap'].keys())\n",
    "            print(f\"     expirations: {exps}\")\n",
    "            the_exp = exps[1] # User Choice: choose the exp within the month you want to analyze\n",
    "            days_to_expiration = int(the_exp.split(\":\")[1])\n",
    "            strikes = pd.DataFrame.from_dict(data['callExpDateMap'][the_exp]).T.index.astype(float)\n",
    "            df = pd.DataFrame.from_dict(data['callExpDateMap'][the_exp]).T \n",
    "            df = pd.json_normalize(df.to_dict(orient='records'))\n",
    "            df.columns = [x.split(\".\")[1] for x in df.columns]\n",
    "            df['daysToExpiration'] = days_to_expiration\n",
    "            df['underlyingPrice'] = float(data['underlyingPrice'])\n",
    "            df['strike']=strikes\n",
    "            df['stockReturnCap'] =  (df['strike'] / df['underlyingPrice'] - 1).clip(lower=0)\n",
    "            df['premiumReturn'] = np.where(df['strike'] < df['underlyingPrice'], \n",
    "                                        (df['bid'] / df['underlyingPrice']) - (df['underlyingPrice'] / df['strike'] - 1), \n",
    "                                        (df['bid'] / df['underlyingPrice'])) \n",
    "\n",
    "            df['annualizedPremiumReturn'] = (1 + df['premiumReturn']) ** (252/days_to_expiration) - 1\n",
    "            df['costForUnderlying'] = df['underlyingPrice'] * 100\n",
    "            df['breakevenPoint'] = df['underlyingPrice'] - df['bid']\n",
    "            df['downsideProtection'] = df['bid'] / df['underlyingPrice']\n",
    "            df['dollarReturn'] = df['premiumReturn'] * df['costForUnderlying']\n",
    "            final_df.append(df)\n",
    "        else:\n",
    "            print(\"Error:\", response.status_code, response.text)\n",
    "    except Exception as e:\n",
    "        print(e)\n",
    "        \n",
    "final_df = pd.concat(final_df, axis = 0)"
   ]
  },
  {
   "cell_type": "markdown",
   "metadata": {},
   "source": [
    "Below is a way to calculate the risk neutral probability of profit. It utilizes and assumes current IV and calculates the cumulative distribution function up to the breakeven point for each row"
   ]
  },
  {
   "cell_type": "code",
   "execution_count": null,
   "metadata": {},
   "outputs": [],
   "source": [
    "def compute_probs(row):\n",
    "    S = row['underlyingPrice']\n",
    "    K = row['breakevenPoint']\n",
    "    vol = row['volatility'] / 100\n",
    "    T = row['daysToExpiration'] / 365.0\n",
    "    sigma_T = vol * math.sqrt(T)\n",
    "    z = (math.log(K / S)) / sigma_T\n",
    "    return 1 - norm.cdf(z)\n",
    "final_df['probFullProfit'] = final_df.apply(compute_probs, axis= 1)\n",
    "final_df"
   ]
  },
  {
   "cell_type": "markdown",
   "metadata": {},
   "source": [
    "Below is an example of how to filter and sort by the risk measures you care about"
   ]
  },
  {
   "cell_type": "code",
   "execution_count": null,
   "metadata": {},
   "outputs": [],
   "source": [
    "summary_df = final_df[(final_df.annualizedPremiumReturn > 0.5) & (final_df.downsideProtection > 0.05)]\n",
    "summary_df[['description','bid','last','strike','underlyingPrice',\n",
    "         'premiumReturn','annualizedPremiumReturn','costForUnderlying',\n",
    "         'breakevenPoint','downsideProtection','dollarReturn','probFullProfit']].sort_values(by='downsideProtection')"
   ]
  }
 ],
 "metadata": {
  "kernelspec": {
   "display_name": "schwab",
   "language": "python",
   "name": "python3"
  },
  "language_info": {
   "codemirror_mode": {
    "name": "ipython",
    "version": 3
   },
   "file_extension": ".py",
   "mimetype": "text/x-python",
   "name": "python",
   "nbconvert_exporter": "python",
   "pygments_lexer": "ipython3",
   "version": "3.9.13"
  }
 },
 "nbformat": 4,
 "nbformat_minor": 2
}
